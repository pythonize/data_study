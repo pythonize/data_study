{
  "nbformat": 4,
  "nbformat_minor": 0,
  "metadata": {
    "colab": {
      "provenance": [],
      "authorship_tag": "ABX9TyN0wbXjsd6x125pIKv1h+w3"
    },
    "kernelspec": {
      "name": "python3",
      "display_name": "Python 3"
    },
    "language_info": {
      "name": "python"
    }
  },
  "cells": [
    {
      "cell_type": "markdown",
      "source": [
        "# **Dataset 설명**\n",
        "\n",
        " - 선택한 Rohlik 재고 및 날짜에 대한 과거 판매 데이터가 제공됩니다. ID, 판매, 총 주문 및 가격 열은 실제 값을 기밀로 유지하기 위해 변경됩니다. 일부 기능은 예측을 하는 시점에는 알 수 없으므로 테스트에서 사용할 수 없습니다. 작업은 테스트 세트에 대해 unique_id와 date(예: unique_id 1226과 date 2024-06-03에서 id 1226_2024-06-03)로 구성된 주어진 id에 대한 판매 열을 예측하는 것입니다.\n",
        "\n",
        "파일\n",
        "\n",
        " - sales_train.csv - 아래에 설명된 선택된 기능을 갖춘 지정된 날짜 및 재고에 대한 과거 판매 데이터가 포함된 교육 세트\n",
        " - sales_test.csv - 전체 테스트 세트\n",
        " - inventory.csv - 제품과 같은 재고에 대한 추가 정보(모든 창고의 동일한 제품은 동일한 제품 고유 ID 및 이름을 공유하지만 고유 ID는 다름)\n",
        " - solution.csv - 올바른 형식의 전체 제출 파일\n",
        " - calendar.csv - 휴일 또는 창고별 이벤트에 대한 데이터가 포함된 달력, 일부 열은 이미 열차 데이터에 있지만 공휴일 또는 일요일로 인해 일부 창고가 닫힐 수 있는 날짜에 대한 추가 행이 이 파일에 있습니다(따라서 열차 세트에 없음)"
      ],
      "metadata": {
        "id": "71RLGcCwkk3p"
      }
    },
    {
      "cell_type": "markdown",
      "source": [
        "# **Column 설명**\n",
        "\n",
        " # sales_train.csv 및 sales_test.csv\n",
        " - unique_id- 재고에 대한 고유 ID\n",
        " - date - 날짜\n",
        " - warehouse- 창고 이름\n",
        " - total_orders- 이 도전의 일부로 테스트 세트로 알려진 선택된 Rohlik 창고에 대한 과거 주문\n",
        " - sales- 목표 값, 판매 볼륨(개 또는 kg)은 가용성에 따라 조정됩니다. 1보다 낮은 가용성을 가진 판매는 이미 Rohlik 내부 논리에 의해 전체 잠재 판매로 조정됩니다. 다양한 이유로 주어진 재고에 대한 train과 test에서 날짜가 누락될 수 있습니다. 이 열은 test.csv에서 누락되었는데, 이는 목표 변수이기 때문입니다.\n",
        " - sell_price_main- 판매 가격\n",
        " - availability- 재고가 고객에게 제공될 수 있었던 하루의 비율. 재고는 항상 제공될 필요는 없습니다. 값 1은 하루 종일 제공되었음을 의미합니다. 이 열은 예측을 하는 시점에는 알 수 없기 때문에 test.csv에 없습니다.\n",
        " - type_0_discount, type_1_discount, … - Rohlik은 다양한 유형의 프로모 세일 액션을 실행하고 있으며, 이는 프로모 기간 동안 원래 가격의 백분율을 보여줍니다(( original price- current_price) / original_price). 다양한 유형의 여러 할인을 동시에 실행할 수 있지만, 이러한 유형 중 가장 높은 할인이 항상 세일에 사용됩니다. 음수 할인 값은 할인 없음으로 해석해야 합니다.\n",
        "\n",
        " # 인벤토리.csv\n",
        " - unique_id - 단일 보관 단위에 대한 인벤토리 ID\n",
        " - product_unique_id - 제품 ID, 각 창고의 재고는 동일한 제품 고유 ID를 갖습니다(모든 창고의 동일한 제품은 동일한 제품 ID를 갖지만 고유 ID는 다름)\n",
        " - name - 단일 보관 단위에 대한 인벤토리 ID\n",
        " - L1_category_name, L2_category_name, … - 내부 카테고리의 이름입니다. 숫자가 높을수록 더 세부적인 정보가 제공됩니다.\n",
        " - warehouse - 창고 이름\n",
        "\n",
        " # 달력.csv\n",
        " - warehouse - 창고 이름\n",
        " - date - 날짜\n",
        " - holiday_name - 공휴일이 있는 경우 공휴일 이름\n",
        " - holiday - 0/1은 휴일이 있음을 나타냅니다.\n",
        " - shops_closed - 대부분의 상점 또는 상당수의 상점이 문을 닫는 공휴일\n",
        " - winter_school_holidays - 겨울방학\n",
        " - school_holidays - 학교 방학\n",
        "\n",
        " # 테스트_가중치.csv\n",
        " - unique_id - 단일 보관 단위에 대한 인벤토리 ID\n",
        " - weight- 최종 메트릭 계산에 사용되는 가중치"
      ],
      "metadata": {
        "id": "5jETZOfJlHn3"
      }
    },
    {
      "cell_type": "markdown",
      "source": [
        "# **Rohlik Sales Prediction**\n",
        "### 1. 데이터 클렌징 및 가공"
      ],
      "metadata": {
        "id": "mwqb-kDeipv_"
      }
    },
    {
      "cell_type": "code",
      "execution_count": 1,
      "metadata": {
        "colab": {
          "base_uri": "https://localhost:8080/"
        },
        "id": "yxygdsKIQVCa",
        "outputId": "578abc0d-7696-4d21-e7b1-66b2265a804e"
      },
      "outputs": [
        {
          "output_type": "stream",
          "name": "stdout",
          "text": [
            "Mounted at /content/drive\n"
          ]
        }
      ],
      "source": [
        "from google.colab import drive\n",
        "drive.mount('/content/drive')"
      ]
    },
    {
      "cell_type": "code",
      "source": [
        "import numpy as np\n",
        "import pandas as pd\n",
        "import seaborn as sns\n",
        "import matplotlib.pyplot as plt\n",
        "%matplotlib inline\n",
        "\n",
        "import warnings\n",
        "warnings.filterwarnings(\"ignore\", category=RuntimeWarning)\n",
        "\n",
        "sales_train_df = pd.read_csv('/content/drive/MyDrive/Colab Notebooks/Project/Rohlik Sales Prediction/sales_train.csv')\n",
        "print(sales_train_df.shape)\n",
        "sales_train_df.head(5)"
      ],
      "metadata": {
        "colab": {
          "base_uri": "https://localhost:8080/",
          "height": 331
        },
        "id": "V1myKOz4i9LQ",
        "outputId": "793c5791-a7fd-4a07-cbe3-a32cd553d572"
      },
      "execution_count": 2,
      "outputs": [
        {
          "output_type": "stream",
          "name": "stdout",
          "text": [
            "(4007419, 14)\n"
          ]
        },
        {
          "output_type": "execute_result",
          "data": {
            "text/plain": [
              "   unique_id        date   warehouse  total_orders  sales  sell_price_main  \\\n",
              "0       4845  2024-03-10  Budapest_1        6436.0  16.34           646.26   \n",
              "1       4845  2021-05-25  Budapest_1        4663.0  12.63           455.96   \n",
              "2       4845  2021-12-20  Budapest_1        6507.0  34.55           455.96   \n",
              "3       4845  2023-04-29  Budapest_1        5463.0  34.52           646.26   \n",
              "4       4845  2022-04-01  Budapest_1        5997.0  35.92           486.41   \n",
              "\n",
              "   availability  type_0_discount  type_1_discount  type_2_discount  \\\n",
              "0          1.00          0.00000              0.0              0.0   \n",
              "1          1.00          0.00000              0.0              0.0   \n",
              "2          1.00          0.00000              0.0              0.0   \n",
              "3          0.96          0.20024              0.0              0.0   \n",
              "4          1.00          0.00000              0.0              0.0   \n",
              "\n",
              "   type_3_discount  type_4_discount  type_5_discount  type_6_discount  \n",
              "0              0.0          0.15312              0.0              0.0  \n",
              "1              0.0          0.15025              0.0              0.0  \n",
              "2              0.0          0.15025              0.0              0.0  \n",
              "3              0.0          0.15312              0.0              0.0  \n",
              "4              0.0          0.15649              0.0              0.0  "
            ],
            "text/html": [
              "\n",
              "  <div id=\"df-37c35f2d-ed0c-439e-a9a9-b28369ef88d2\" class=\"colab-df-container\">\n",
              "    <div>\n",
              "<style scoped>\n",
              "    .dataframe tbody tr th:only-of-type {\n",
              "        vertical-align: middle;\n",
              "    }\n",
              "\n",
              "    .dataframe tbody tr th {\n",
              "        vertical-align: top;\n",
              "    }\n",
              "\n",
              "    .dataframe thead th {\n",
              "        text-align: right;\n",
              "    }\n",
              "</style>\n",
              "<table border=\"1\" class=\"dataframe\">\n",
              "  <thead>\n",
              "    <tr style=\"text-align: right;\">\n",
              "      <th></th>\n",
              "      <th>unique_id</th>\n",
              "      <th>date</th>\n",
              "      <th>warehouse</th>\n",
              "      <th>total_orders</th>\n",
              "      <th>sales</th>\n",
              "      <th>sell_price_main</th>\n",
              "      <th>availability</th>\n",
              "      <th>type_0_discount</th>\n",
              "      <th>type_1_discount</th>\n",
              "      <th>type_2_discount</th>\n",
              "      <th>type_3_discount</th>\n",
              "      <th>type_4_discount</th>\n",
              "      <th>type_5_discount</th>\n",
              "      <th>type_6_discount</th>\n",
              "    </tr>\n",
              "  </thead>\n",
              "  <tbody>\n",
              "    <tr>\n",
              "      <th>0</th>\n",
              "      <td>4845</td>\n",
              "      <td>2024-03-10</td>\n",
              "      <td>Budapest_1</td>\n",
              "      <td>6436.0</td>\n",
              "      <td>16.34</td>\n",
              "      <td>646.26</td>\n",
              "      <td>1.00</td>\n",
              "      <td>0.00000</td>\n",
              "      <td>0.0</td>\n",
              "      <td>0.0</td>\n",
              "      <td>0.0</td>\n",
              "      <td>0.15312</td>\n",
              "      <td>0.0</td>\n",
              "      <td>0.0</td>\n",
              "    </tr>\n",
              "    <tr>\n",
              "      <th>1</th>\n",
              "      <td>4845</td>\n",
              "      <td>2021-05-25</td>\n",
              "      <td>Budapest_1</td>\n",
              "      <td>4663.0</td>\n",
              "      <td>12.63</td>\n",
              "      <td>455.96</td>\n",
              "      <td>1.00</td>\n",
              "      <td>0.00000</td>\n",
              "      <td>0.0</td>\n",
              "      <td>0.0</td>\n",
              "      <td>0.0</td>\n",
              "      <td>0.15025</td>\n",
              "      <td>0.0</td>\n",
              "      <td>0.0</td>\n",
              "    </tr>\n",
              "    <tr>\n",
              "      <th>2</th>\n",
              "      <td>4845</td>\n",
              "      <td>2021-12-20</td>\n",
              "      <td>Budapest_1</td>\n",
              "      <td>6507.0</td>\n",
              "      <td>34.55</td>\n",
              "      <td>455.96</td>\n",
              "      <td>1.00</td>\n",
              "      <td>0.00000</td>\n",
              "      <td>0.0</td>\n",
              "      <td>0.0</td>\n",
              "      <td>0.0</td>\n",
              "      <td>0.15025</td>\n",
              "      <td>0.0</td>\n",
              "      <td>0.0</td>\n",
              "    </tr>\n",
              "    <tr>\n",
              "      <th>3</th>\n",
              "      <td>4845</td>\n",
              "      <td>2023-04-29</td>\n",
              "      <td>Budapest_1</td>\n",
              "      <td>5463.0</td>\n",
              "      <td>34.52</td>\n",
              "      <td>646.26</td>\n",
              "      <td>0.96</td>\n",
              "      <td>0.20024</td>\n",
              "      <td>0.0</td>\n",
              "      <td>0.0</td>\n",
              "      <td>0.0</td>\n",
              "      <td>0.15312</td>\n",
              "      <td>0.0</td>\n",
              "      <td>0.0</td>\n",
              "    </tr>\n",
              "    <tr>\n",
              "      <th>4</th>\n",
              "      <td>4845</td>\n",
              "      <td>2022-04-01</td>\n",
              "      <td>Budapest_1</td>\n",
              "      <td>5997.0</td>\n",
              "      <td>35.92</td>\n",
              "      <td>486.41</td>\n",
              "      <td>1.00</td>\n",
              "      <td>0.00000</td>\n",
              "      <td>0.0</td>\n",
              "      <td>0.0</td>\n",
              "      <td>0.0</td>\n",
              "      <td>0.15649</td>\n",
              "      <td>0.0</td>\n",
              "      <td>0.0</td>\n",
              "    </tr>\n",
              "  </tbody>\n",
              "</table>\n",
              "</div>\n",
              "    <div class=\"colab-df-buttons\">\n",
              "\n",
              "  <div class=\"colab-df-container\">\n",
              "    <button class=\"colab-df-convert\" onclick=\"convertToInteractive('df-37c35f2d-ed0c-439e-a9a9-b28369ef88d2')\"\n",
              "            title=\"Convert this dataframe to an interactive table.\"\n",
              "            style=\"display:none;\">\n",
              "\n",
              "  <svg xmlns=\"http://www.w3.org/2000/svg\" height=\"24px\" viewBox=\"0 -960 960 960\">\n",
              "    <path d=\"M120-120v-720h720v720H120Zm60-500h600v-160H180v160Zm220 220h160v-160H400v160Zm0 220h160v-160H400v160ZM180-400h160v-160H180v160Zm440 0h160v-160H620v160ZM180-180h160v-160H180v160Zm440 0h160v-160H620v160Z\"/>\n",
              "  </svg>\n",
              "    </button>\n",
              "\n",
              "  <style>\n",
              "    .colab-df-container {\n",
              "      display:flex;\n",
              "      gap: 12px;\n",
              "    }\n",
              "\n",
              "    .colab-df-convert {\n",
              "      background-color: #E8F0FE;\n",
              "      border: none;\n",
              "      border-radius: 50%;\n",
              "      cursor: pointer;\n",
              "      display: none;\n",
              "      fill: #1967D2;\n",
              "      height: 32px;\n",
              "      padding: 0 0 0 0;\n",
              "      width: 32px;\n",
              "    }\n",
              "\n",
              "    .colab-df-convert:hover {\n",
              "      background-color: #E2EBFA;\n",
              "      box-shadow: 0px 1px 2px rgba(60, 64, 67, 0.3), 0px 1px 3px 1px rgba(60, 64, 67, 0.15);\n",
              "      fill: #174EA6;\n",
              "    }\n",
              "\n",
              "    .colab-df-buttons div {\n",
              "      margin-bottom: 4px;\n",
              "    }\n",
              "\n",
              "    [theme=dark] .colab-df-convert {\n",
              "      background-color: #3B4455;\n",
              "      fill: #D2E3FC;\n",
              "    }\n",
              "\n",
              "    [theme=dark] .colab-df-convert:hover {\n",
              "      background-color: #434B5C;\n",
              "      box-shadow: 0px 1px 3px 1px rgba(0, 0, 0, 0.15);\n",
              "      filter: drop-shadow(0px 1px 2px rgba(0, 0, 0, 0.3));\n",
              "      fill: #FFFFFF;\n",
              "    }\n",
              "  </style>\n",
              "\n",
              "    <script>\n",
              "      const buttonEl =\n",
              "        document.querySelector('#df-37c35f2d-ed0c-439e-a9a9-b28369ef88d2 button.colab-df-convert');\n",
              "      buttonEl.style.display =\n",
              "        google.colab.kernel.accessAllowed ? 'block' : 'none';\n",
              "\n",
              "      async function convertToInteractive(key) {\n",
              "        const element = document.querySelector('#df-37c35f2d-ed0c-439e-a9a9-b28369ef88d2');\n",
              "        const dataTable =\n",
              "          await google.colab.kernel.invokeFunction('convertToInteractive',\n",
              "                                                    [key], {});\n",
              "        if (!dataTable) return;\n",
              "\n",
              "        const docLinkHtml = 'Like what you see? Visit the ' +\n",
              "          '<a target=\"_blank\" href=https://colab.research.google.com/notebooks/data_table.ipynb>data table notebook</a>'\n",
              "          + ' to learn more about interactive tables.';\n",
              "        element.innerHTML = '';\n",
              "        dataTable['output_type'] = 'display_data';\n",
              "        await google.colab.output.renderOutput(dataTable, element);\n",
              "        const docLink = document.createElement('div');\n",
              "        docLink.innerHTML = docLinkHtml;\n",
              "        element.appendChild(docLink);\n",
              "      }\n",
              "    </script>\n",
              "  </div>\n",
              "\n",
              "\n",
              "<div id=\"df-87c1d304-3d8a-453b-aff0-2b6f85ac9299\">\n",
              "  <button class=\"colab-df-quickchart\" onclick=\"quickchart('df-87c1d304-3d8a-453b-aff0-2b6f85ac9299')\"\n",
              "            title=\"Suggest charts\"\n",
              "            style=\"display:none;\">\n",
              "\n",
              "<svg xmlns=\"http://www.w3.org/2000/svg\" height=\"24px\"viewBox=\"0 0 24 24\"\n",
              "     width=\"24px\">\n",
              "    <g>\n",
              "        <path d=\"M19 3H5c-1.1 0-2 .9-2 2v14c0 1.1.9 2 2 2h14c1.1 0 2-.9 2-2V5c0-1.1-.9-2-2-2zM9 17H7v-7h2v7zm4 0h-2V7h2v10zm4 0h-2v-4h2v4z\"/>\n",
              "    </g>\n",
              "</svg>\n",
              "  </button>\n",
              "\n",
              "<style>\n",
              "  .colab-df-quickchart {\n",
              "      --bg-color: #E8F0FE;\n",
              "      --fill-color: #1967D2;\n",
              "      --hover-bg-color: #E2EBFA;\n",
              "      --hover-fill-color: #174EA6;\n",
              "      --disabled-fill-color: #AAA;\n",
              "      --disabled-bg-color: #DDD;\n",
              "  }\n",
              "\n",
              "  [theme=dark] .colab-df-quickchart {\n",
              "      --bg-color: #3B4455;\n",
              "      --fill-color: #D2E3FC;\n",
              "      --hover-bg-color: #434B5C;\n",
              "      --hover-fill-color: #FFFFFF;\n",
              "      --disabled-bg-color: #3B4455;\n",
              "      --disabled-fill-color: #666;\n",
              "  }\n",
              "\n",
              "  .colab-df-quickchart {\n",
              "    background-color: var(--bg-color);\n",
              "    border: none;\n",
              "    border-radius: 50%;\n",
              "    cursor: pointer;\n",
              "    display: none;\n",
              "    fill: var(--fill-color);\n",
              "    height: 32px;\n",
              "    padding: 0;\n",
              "    width: 32px;\n",
              "  }\n",
              "\n",
              "  .colab-df-quickchart:hover {\n",
              "    background-color: var(--hover-bg-color);\n",
              "    box-shadow: 0 1px 2px rgba(60, 64, 67, 0.3), 0 1px 3px 1px rgba(60, 64, 67, 0.15);\n",
              "    fill: var(--button-hover-fill-color);\n",
              "  }\n",
              "\n",
              "  .colab-df-quickchart-complete:disabled,\n",
              "  .colab-df-quickchart-complete:disabled:hover {\n",
              "    background-color: var(--disabled-bg-color);\n",
              "    fill: var(--disabled-fill-color);\n",
              "    box-shadow: none;\n",
              "  }\n",
              "\n",
              "  .colab-df-spinner {\n",
              "    border: 2px solid var(--fill-color);\n",
              "    border-color: transparent;\n",
              "    border-bottom-color: var(--fill-color);\n",
              "    animation:\n",
              "      spin 1s steps(1) infinite;\n",
              "  }\n",
              "\n",
              "  @keyframes spin {\n",
              "    0% {\n",
              "      border-color: transparent;\n",
              "      border-bottom-color: var(--fill-color);\n",
              "      border-left-color: var(--fill-color);\n",
              "    }\n",
              "    20% {\n",
              "      border-color: transparent;\n",
              "      border-left-color: var(--fill-color);\n",
              "      border-top-color: var(--fill-color);\n",
              "    }\n",
              "    30% {\n",
              "      border-color: transparent;\n",
              "      border-left-color: var(--fill-color);\n",
              "      border-top-color: var(--fill-color);\n",
              "      border-right-color: var(--fill-color);\n",
              "    }\n",
              "    40% {\n",
              "      border-color: transparent;\n",
              "      border-right-color: var(--fill-color);\n",
              "      border-top-color: var(--fill-color);\n",
              "    }\n",
              "    60% {\n",
              "      border-color: transparent;\n",
              "      border-right-color: var(--fill-color);\n",
              "    }\n",
              "    80% {\n",
              "      border-color: transparent;\n",
              "      border-right-color: var(--fill-color);\n",
              "      border-bottom-color: var(--fill-color);\n",
              "    }\n",
              "    90% {\n",
              "      border-color: transparent;\n",
              "      border-bottom-color: var(--fill-color);\n",
              "    }\n",
              "  }\n",
              "</style>\n",
              "\n",
              "  <script>\n",
              "    async function quickchart(key) {\n",
              "      const quickchartButtonEl =\n",
              "        document.querySelector('#' + key + ' button');\n",
              "      quickchartButtonEl.disabled = true;  // To prevent multiple clicks.\n",
              "      quickchartButtonEl.classList.add('colab-df-spinner');\n",
              "      try {\n",
              "        const charts = await google.colab.kernel.invokeFunction(\n",
              "            'suggestCharts', [key], {});\n",
              "      } catch (error) {\n",
              "        console.error('Error during call to suggestCharts:', error);\n",
              "      }\n",
              "      quickchartButtonEl.classList.remove('colab-df-spinner');\n",
              "      quickchartButtonEl.classList.add('colab-df-quickchart-complete');\n",
              "    }\n",
              "    (() => {\n",
              "      let quickchartButtonEl =\n",
              "        document.querySelector('#df-87c1d304-3d8a-453b-aff0-2b6f85ac9299 button');\n",
              "      quickchartButtonEl.style.display =\n",
              "        google.colab.kernel.accessAllowed ? 'block' : 'none';\n",
              "    })();\n",
              "  </script>\n",
              "</div>\n",
              "\n",
              "    </div>\n",
              "  </div>\n"
            ],
            "application/vnd.google.colaboratory.intrinsic+json": {
              "type": "dataframe",
              "variable_name": "sales_train_df"
            }
          },
          "metadata": {},
          "execution_count": 2
        }
      ]
    },
    {
      "cell_type": "code",
      "source": [
        "sales_train_df.info()"
      ],
      "metadata": {
        "colab": {
          "base_uri": "https://localhost:8080/"
        },
        "id": "agLrKQvMkBmp",
        "outputId": "c5e048d5-3d50-45ec-9de8-7b90f88baa4a"
      },
      "execution_count": 3,
      "outputs": [
        {
          "output_type": "stream",
          "name": "stdout",
          "text": [
            "<class 'pandas.core.frame.DataFrame'>\n",
            "RangeIndex: 4007419 entries, 0 to 4007418\n",
            "Data columns (total 14 columns):\n",
            " #   Column           Dtype  \n",
            "---  ------           -----  \n",
            " 0   unique_id        int64  \n",
            " 1   date             object \n",
            " 2   warehouse        object \n",
            " 3   total_orders     float64\n",
            " 4   sales            float64\n",
            " 5   sell_price_main  float64\n",
            " 6   availability     float64\n",
            " 7   type_0_discount  float64\n",
            " 8   type_1_discount  float64\n",
            " 9   type_2_discount  float64\n",
            " 10  type_3_discount  float64\n",
            " 11  type_4_discount  float64\n",
            " 12  type_5_discount  float64\n",
            " 13  type_6_discount  float64\n",
            "dtypes: float64(11), int64(1), object(2)\n",
            "memory usage: 428.0+ MB\n"
          ]
        }
      ]
    },
    {
      "cell_type": "markdown",
      "source": [
        "1. 날짜별 평균 판매량 시각화"
      ],
      "metadata": {
        "id": "iXuvre5Qsuhj"
      }
    },
    {
      "cell_type": "code",
      "source": [
        "# 날짜별 평균 판매량 계산\n",
        "daily_sales = sales_train_df.groupby('date')['sales'].mean().reset_index()\n",
        "\n",
        "# 시각화\n",
        "plt.figure(figsize=(12, 6))\n",
        "sns.lineplot(x='date', y='sales', data=daily_sales)\n",
        "plt.title('Daily Average Sales')\n",
        "plt.xlabel('Date')\n",
        "plt.ylabel('Average Sales')\n",
        "plt.show()"
      ],
      "metadata": {
        "colab": {
          "base_uri": "https://localhost:8080/",
          "height": 564
        },
        "id": "fC2l6gjHnWNW",
        "outputId": "7734e39c-54f5-4da7-9093-9cde776a98f9"
      },
      "execution_count": 4,
      "outputs": [
        {
          "output_type": "display_data",
          "data": {
            "text/plain": [
              "<Figure size 1200x600 with 1 Axes>"
            ],
            "image/png": "[encoded data removed]"
          },
          "metadata": {}
        }
      ]
    },
    {
      "cell_type": "markdown",
      "source": [
        "2. 창고별 판매량 비교"
      ],
      "metadata": {
        "id": "S0reGdVCsx3u"
      }
    },
    {
      "cell_type": "code",
      "source": [
        "# 창고별 총 판매량 계산\n",
        "warehouse_sales = sales_train_df.groupby('warehouse')['sales'].sum().reset_index()\n",
        "\n",
        "# 시각화\n",
        "plt.figure(figsize=(10, 5))\n",
        "sns.barplot(x='warehouse', y='sales', data=warehouse_sales)\n",
        "plt.title('Total Sales by Warehouse')\n",
        "plt.xlabel('Warehouse')\n",
        "plt.ylabel('Total Sales')\n",
        "plt.show()"
      ],
      "metadata": {
        "colab": {
          "base_uri": "https://localhost:8080/",
          "height": 487
        },
        "id": "h85jhuAuspV_",
        "outputId": "42b94090-efb1-41e0-9d00-0ae7a5b41813"
      },
      "execution_count": 5,
      "outputs": [
        {
          "output_type": "display_data",
          "data": {
            "text/plain": [
              "<Figure size 1000x500 with 1 Axes>"
            ],
            "image/png": "[encoded data removed]"
          },
          "metadata": {}
        }
      ]
    },
    {
      "cell_type": "markdown",
      "source": [
        "3. 특정 제품 카테고리별 판매량 차이 분석"
      ],
      "metadata": {
        "id": "GoJD2iQ7tig8"
      }
    },
    {
      "cell_type": "code",
      "source": [
        "# inventory 데이터 불러오기 (제품 카테고리 정보 포함)\n",
        "inventory_df = pd.read_csv('/content/drive/MyDrive/Colab Notebooks/Project/Rohlik Sales Prediction/inventory.csv')\n",
        "\n",
        "# sales_train 데이터와 inventory 데이터 병합\n",
        "merged_df = pd.merge(sales_train_df, inventory_df[['unique_id', 'L1_category_name_en']], on='unique_id')\n",
        "\n",
        "# 카테고리별 평균 판매량 계산\n",
        "category_sales = merged_df.groupby('L1_category_name_en')['sales'].mean().reset_index()\n",
        "\n",
        "# 시각화\n",
        "plt.figure(figsize=(15, 6))\n",
        "sns.barplot(x='L1_category_name_en', y='sales', data=category_sales)\n",
        "plt.title('Average Sales by Category')\n",
        "plt.xlabel('Category')\n",
        "plt.ylabel('Average Sales')\n",
        "plt.xticks(rotation=45, ha='right')\n",
        "plt.show()"
      ],
      "metadata": {
        "colab": {
          "base_uri": "https://localhost:8080/",
          "height": 656
        },
        "id": "LOV4tC5Zs7FQ",
        "outputId": "6c39448a-107a-4067-f1e9-58b4c065104a"
      },
      "execution_count": 6,
      "outputs": [
        {
          "output_type": "display_data",
          "data": {
            "text/plain": [
              "<Figure size 1500x600 with 1 Axes>"
            ],
            "image/png": "[encoded data removed]"
          },
          "metadata": {}
        }
      ]
    },
    {
      "cell_type": "markdown",
      "source": [
        "# **2. 간단한 예측 모델 만들기 (Baseline Model)**\n",
        "- 과거 평균 판매량을 기반으로 간단한 예측 모델을 생성하고 성능을 평가"
      ],
      "metadata": {
        "id": "p5Fa7dHn3ZU0"
      }
    },
    {
      "cell_type": "markdown",
      "source": [
        "1) unique_id별 최근 7일 평균 판매량 계산"
      ],
      "metadata": {
        "id": "JzSnk-fp3thc"
      }
    },
    {
      "cell_type": "markdown",
      "source": [
        "2) Linear Regression 모델 학습 및 예측"
      ],
      "metadata": {
        "id": "0Aijv29z6H9m"
      }
    },
    {
      "cell_type": "code",
      "source": [
        "import pandas as pd\n",
        "import numpy as np\n",
        "from sklearn.linear_model import LinearRegression\n",
        "from sklearn.model_selection import train_test_split\n",
        "from sklearn.metrics import mean_squared_error, mean_absolute_error"
      ],
      "metadata": {
        "id": "b2VabGO66Tmy"
      },
      "execution_count": 14,
      "outputs": []
    },
    {
      "cell_type": "code",
      "source": [
        "# 1. 데이터 준비\n",
        "# sales_train.csv 파일 로드\n",
        "sales_train_df = pd.read_csv('/content/drive/MyDrive/Colab Notebooks/Project/Rohlik Sales Prediction/sales_train.csv')\n",
        "\n",
        "# 날짜 데이터 변환\n",
        "sales_train_df['date'] = pd.to_datetime(sales_train_df['date'])\n",
        "\n",
        "# 결측치 확인 및 처리 (sales 열)\n",
        "print(sales_train_df['sales'].isnull().sum()) # 결측치 개수 확인\n",
        "sales_train_df['sales'] = sales_train_df['sales'].fillna(sales_train_df['sales'].mean()) # 평균값으로 채우기"
      ],
      "metadata": {
        "colab": {
          "base_uri": "https://localhost:8080/"
        },
        "id": "alaAYzUE4geg",
        "outputId": "f378a365-4549-4c3a-f80f-d2b10e679f35"
      },
      "execution_count": 15,
      "outputs": [
        {
          "output_type": "stream",
          "name": "stdout",
          "text": [
            "52\n"
          ]
        }
      ]
    },
    {
      "cell_type": "code",
      "source": [
        "# 2. Feature 엔지니어링\n",
        "# 최근 7일 평균 판매량 계산\n",
        "def get_recent_sales(df, unique_id, date, window=7):\n",
        "    recent_sales = df[(df['unique_id'] == unique_id) & (df['date'] < date)].tail(window)\n",
        "    avg_sales = recent_sales['sales'].mean() if len(recent_sales) > 0 else 0\n",
        "    return avg_sales\n",
        "\n",
        "# 예측 대상 날짜 설정\n",
        "target_date = sales_train_df['date'].max() + pd.DateOffset(days=1)"
      ],
      "metadata": {
        "id": "gLmN0hXn4pGf"
      },
      "execution_count": 16,
      "outputs": []
    },
    {
      "cell_type": "code",
      "source": [
        "# unique_id별 최근 7일 평균 판매량 계산\n",
        "features = []\n",
        "for unique_id in sales_train_df['unique_id'].unique():\n",
        "    avg_sales = get_recent_sales(sales_train_df, unique_id, target_date)\n",
        "    features.append([unique_id, target_date, avg_sales])"
      ],
      "metadata": {
        "id": "3mRVNRHr40hw"
      },
      "execution_count": 17,
      "outputs": []
    },
    {
      "cell_type": "code",
      "source": [
        "# Feature DataFrame 생성\n",
        "features_df = pd.DataFrame(features, columns=['unique_id', 'date', 'recent_7days_avg_sales'])\n",
        "\n",
        "# sales_train_df에서 target_date에 해당하는 sales 데이터만 추출\n",
        "sales_target = sales_train_df[sales_train_df['date'] == target_date][['unique_id', 'date', 'sales']]\n",
        "\n",
        "# features_df와 sales_target 병합\n",
        "features_df = pd.merge(features_df, sales_target, on=['unique_id', 'date'], how='left')\n",
        "\n",
        "# sales 열에 NaN 값이 있는 경우 0으로 채우기\n",
        "features_df['sales'] = features_df['sales'].fillna(0)"
      ],
      "metadata": {
        "id": "s9OEyf4p4310"
      },
      "execution_count": 18,
      "outputs": []
    },
    {
      "cell_type": "code",
      "source": [
        "# 3. 모델링\n",
        "# 데이터 분할 (train/test)\n",
        "X = features_df[['recent_7days_avg_sales']]\n",
        "y = features_df['sales']\n",
        "X_train, X_test, y_train, y_test = train_test_split(X, y, test_size=0.2, random_state=42)\n",
        "\n",
        "# 모델 선택 및 학습\n",
        "model = LinearRegression()\n",
        "model.fit(X_train, y_train)"
      ],
      "metadata": {
        "colab": {
          "base_uri": "https://localhost:8080/",
          "height": 80
        },
        "id": "MkDRa4Ad5AOc",
        "outputId": "afd1cef2-ae86-42ef-a787-240c93d847cd"
      },
      "execution_count": 19,
      "outputs": [
        {
          "output_type": "execute_result",
          "data": {
            "text/plain": [
              "LinearRegression()"
            ],
            "text/html": [
              "<style>#sk-container-id-1 {\n",
              "  /* Definition of color scheme common for light and dark mode */\n",
              "  --sklearn-color-text: #000;\n",
              "  --sklearn-color-text-muted: #666;\n",
              "  --sklearn-color-line: gray;\n",
              "  /* Definition of color scheme for unfitted estimators */\n",
              "  --sklearn-color-unfitted-level-0: #fff5e6;\n",
              "  --sklearn-color-unfitted-level-1: #f6e4d2;\n",
              "  --sklearn-color-unfitted-level-2: #ffe0b3;\n",
              "  --sklearn-color-unfitted-level-3: chocolate;\n",
              "  /* Definition of color scheme for fitted estimators */\n",
              "  --sklearn-color-fitted-level-0: #f0f8ff;\n",
              "  --sklearn-color-fitted-level-1: #d4ebff;\n",
              "  --sklearn-color-fitted-level-2: #b3dbfd;\n",
              "  --sklearn-color-fitted-level-3: cornflowerblue;\n",
              "\n",
              "  /* Specific color for light theme */\n",
              "  --sklearn-color-text-on-default-background: var(--sg-text-color, var(--theme-code-foreground, var(--jp-content-font-color1, black)));\n",
              "  --sklearn-color-background: var(--sg-background-color, var(--theme-background, var(--jp-layout-color0, white)));\n",
              "  --sklearn-color-border-box: var(--sg-text-color, var(--theme-code-foreground, var(--jp-content-font-color1, black)));\n",
              "  --sklearn-color-icon: #696969;\n",
              "\n",
              "  @media (prefers-color-scheme: dark) {\n",
              "    /* Redefinition of color scheme for dark theme */\n",
              "    --sklearn-color-text-on-default-background: var(--sg-text-color, var(--theme-code-foreground, var(--jp-content-font-color1, white)));\n",
              "    --sklearn-color-background: var(--sg-background-color, var(--theme-background, var(--jp-layout-color0, #111)));\n",
              "    --sklearn-color-border-box: var(--sg-text-color, var(--theme-code-foreground, var(--jp-content-font-color1, white)));\n",
              "    --sklearn-color-icon: #878787;\n",
              "  }\n",
              "}\n",
              "\n",
              "#sk-container-id-1 {\n",
              "  color: var(--sklearn-color-text);\n",
              "}\n",
              "\n",
              "#sk-container-id-1 pre {\n",
              "  padding: 0;\n",
              "}\n",
              "\n",
              "#sk-container-id-1 input.sk-hidden--visually {\n",
              "  border: 0;\n",
              "  clip: rect(1px 1px 1px 1px);\n",
              "  clip: rect(1px, 1px, 1px, 1px);\n",
              "  height: 1px;\n",
              "  margin: -1px;\n",
              "  overflow: hidden;\n",
              "  padding: 0;\n",
              "  position: absolute;\n",
              "  width: 1px;\n",
              "}\n",
              "\n",
              "#sk-container-id-1 div.sk-dashed-wrapped {\n",
              "  border: 1px dashed var(--sklearn-color-line);\n",
              "  margin: 0 0.4em 0.5em 0.4em;\n",
              "  box-sizing: border-box;\n",
              "  padding-bottom: 0.4em;\n",
              "  background-color: var(--sklearn-color-background);\n",
              "}\n",
              "\n",
              "#sk-container-id-1 div.sk-container {\n",
              "  /* jupyter's `normalize.less` sets `[hidden] { display: none; }`\n",
              "     but bootstrap.min.css set `[hidden] { display: none !important; }`\n",
              "     so we also need the `!important` here to be able to override the\n",
              "     default hidden behavior on the sphinx rendered scikit-learn.org.\n",
              "     See: https://github.com/scikit-learn/scikit-learn/issues/21755 */\n",
              "  display: inline-block !important;\n",
              "  position: relative;\n",
              "}\n",
              "\n",
              "#sk-container-id-1 div.sk-text-repr-fallback {\n",
              "  display: none;\n",
              "}\n",
              "\n",
              "div.sk-parallel-item,\n",
              "div.sk-serial,\n",
              "div.sk-item {\n",
              "  /* draw centered vertical line to link estimators */\n",
              "  background-image: linear-gradient(var(--sklearn-color-text-on-default-background), var(--sklearn-color-text-on-default-background));\n",
              "  background-size: 2px 100%;\n",
              "  background-repeat: no-repeat;\n",
              "  background-position: center center;\n",
              "}\n",
              "\n",
              "/* Parallel-specific style estimator block */\n",
              "\n",
              "#sk-container-id-1 div.sk-parallel-item::after {\n",
              "  content: \"\";\n",
              "  width: 100%;\n",
              "  border-bottom: 2px solid var(--sklearn-color-text-on-default-background);\n",
              "  flex-grow: 1;\n",
              "}\n",
              "\n",
              "#sk-container-id-1 div.sk-parallel {\n",
              "  display: flex;\n",
              "  align-items: stretch;\n",
              "  justify-content: center;\n",
              "  background-color: var(--sklearn-color-background);\n",
              "  position: relative;\n",
              "}\n",
              "\n",
              "#sk-container-id-1 div.sk-parallel-item {\n",
              "  display: flex;\n",
              "  flex-direction: column;\n",
              "}\n",
              "\n",
              "#sk-container-id-1 div.sk-parallel-item:first-child::after {\n",
              "  align-self: flex-end;\n",
              "  width: 50%;\n",
              "}\n",
              "\n",
              "#sk-container-id-1 div.sk-parallel-item:last-child::after {\n",
              "  align-self: flex-start;\n",
              "  width: 50%;\n",
              "}\n",
              "\n",
              "#sk-container-id-1 div.sk-parallel-item:only-child::after {\n",
              "  width: 0;\n",
              "}\n",
              "\n",
              "/* Serial-specific style estimator block */\n",
              "\n",
              "#sk-container-id-1 div.sk-serial {\n",
              "  display: flex;\n",
              "  flex-direction: column;\n",
              "  align-items: center;\n",
              "  background-color: var(--sklearn-color-background);\n",
              "  padding-right: 1em;\n",
              "  padding-left: 1em;\n",
              "}\n",
              "\n",
              "\n",
              "/* Toggleable style: style used for estimator/Pipeline/ColumnTransformer box that is\n",
              "clickable and can be expanded/collapsed.\n",
              "- Pipeline and ColumnTransformer use this feature and define the default style\n",
              "- Estimators will overwrite some part of the style using the `sk-estimator` class\n",
              "*/\n",
              "\n",
              "/* Pipeline and ColumnTransformer style (default) */\n",
              "\n",
              "#sk-container-id-1 div.sk-toggleable {\n",
              "  /* Default theme specific background. It is overwritten whether we have a\n",
              "  specific estimator or a Pipeline/ColumnTransformer */\n",
              "  background-color: var(--sklearn-color-background);\n",
              "}\n",
              "\n",
              "/* Toggleable label */\n",
              "#sk-container-id-1 label.sk-toggleable__label {\n",
              "  cursor: pointer;\n",
              "  display: flex;\n",
              "  width: 100%;\n",
              "  margin-bottom: 0;\n",
              "  padding: 0.5em;\n",
              "  box-sizing: border-box;\n",
              "  text-align: center;\n",
              "  align-items: start;\n",
              "  justify-content: space-between;\n",
              "  gap: 0.5em;\n",
              "}\n",
              "\n",
              "#sk-container-id-1 label.sk-toggleable__label .caption {\n",
              "  font-size: 0.6rem;\n",
              "  font-weight: lighter;\n",
              "  color: var(--sklearn-color-text-muted);\n",
              "}\n",
              "\n",
              "#sk-container-id-1 label.sk-toggleable__label-arrow:before {\n",
              "  /* Arrow on the left of the label */\n",
              "  content: \"▸\";\n",
              "  float: left;\n",
              "  margin-right: 0.25em;\n",
              "  color: var(--sklearn-color-icon);\n",
              "}\n",
              "\n",
              "#sk-container-id-1 label.sk-toggleable__label-arrow:hover:before {\n",
              "  color: var(--sklearn-color-text);\n",
              "}\n",
              "\n",
              "/* Toggleable content - dropdown */\n",
              "\n",
              "#sk-container-id-1 div.sk-toggleable__content {\n",
              "  max-height: 0;\n",
              "  max-width: 0;\n",
              "  overflow: hidden;\n",
              "  text-align: left;\n",
              "  /* unfitted */\n",
              "  background-color: var(--sklearn-color-unfitted-level-0);\n",
              "}\n",
              "\n",
              "#sk-container-id-1 div.sk-toggleable__content.fitted {\n",
              "  /* fitted */\n",
              "  background-color: var(--sklearn-color-fitted-level-0);\n",
              "}\n",
              "\n",
              "#sk-container-id-1 div.sk-toggleable__content pre {\n",
              "  margin: 0.2em;\n",
              "  border-radius: 0.25em;\n",
              "  color: var(--sklearn-color-text);\n",
              "  /* unfitted */\n",
              "  background-color: var(--sklearn-color-unfitted-level-0);\n",
              "}\n",
              "\n",
              "#sk-container-id-1 div.sk-toggleable__content.fitted pre {\n",
              "  /* unfitted */\n",
              "  background-color: var(--sklearn-color-fitted-level-0);\n",
              "}\n",
              "\n",
              "#sk-container-id-1 input.sk-toggleable__control:checked~div.sk-toggleable__content {\n",
              "  /* Expand drop-down */\n",
              "  max-height: 200px;\n",
              "  max-width: 100%;\n",
              "  overflow: auto;\n",
              "}\n",
              "\n",
              "#sk-container-id-1 input.sk-toggleable__control:checked~label.sk-toggleable__label-arrow:before {\n",
              "  content: \"▾\";\n",
              "}\n",
              "\n",
              "/* Pipeline/ColumnTransformer-specific style */\n",
              "\n",
              "#sk-container-id-1 div.sk-label input.sk-toggleable__control:checked~label.sk-toggleable__label {\n",
              "  color: var(--sklearn-color-text);\n",
              "  background-color: var(--sklearn-color-unfitted-level-2);\n",
              "}\n",
              "\n",
              "#sk-container-id-1 div.sk-label.fitted input.sk-toggleable__control:checked~label.sk-toggleable__label {\n",
              "  background-color: var(--sklearn-color-fitted-level-2);\n",
              "}\n",
              "\n",
              "/* Estimator-specific style */\n",
              "\n",
              "/* Colorize estimator box */\n",
              "#sk-container-id-1 div.sk-estimator input.sk-toggleable__control:checked~label.sk-toggleable__label {\n",
              "  /* unfitted */\n",
              "  background-color: var(--sklearn-color-unfitted-level-2);\n",
              "}\n",
              "\n",
              "#sk-container-id-1 div.sk-estimator.fitted input.sk-toggleable__control:checked~label.sk-toggleable__label {\n",
              "  /* fitted */\n",
              "  background-color: var(--sklearn-color-fitted-level-2);\n",
              "}\n",
              "\n",
              "#sk-container-id-1 div.sk-label label.sk-toggleable__label,\n",
              "#sk-container-id-1 div.sk-label label {\n",
              "  /* The background is the default theme color */\n",
              "  color: var(--sklearn-color-text-on-default-background);\n",
              "}\n",
              "\n",
              "/* On hover, darken the color of the background */\n",
              "#sk-container-id-1 div.sk-label:hover label.sk-toggleable__label {\n",
              "  color: var(--sklearn-color-text);\n",
              "  background-color: var(--sklearn-color-unfitted-level-2);\n",
              "}\n",
              "\n",
              "/* Label box, darken color on hover, fitted */\n",
              "#sk-container-id-1 div.sk-label.fitted:hover label.sk-toggleable__label.fitted {\n",
              "  color: var(--sklearn-color-text);\n",
              "  background-color: var(--sklearn-color-fitted-level-2);\n",
              "}\n",
              "\n",
              "/* Estimator label */\n",
              "\n",
              "#sk-container-id-1 div.sk-label label {\n",
              "  font-family: monospace;\n",
              "  font-weight: bold;\n",
              "  display: inline-block;\n",
              "  line-height: 1.2em;\n",
              "}\n",
              "\n",
              "#sk-container-id-1 div.sk-label-container {\n",
              "  text-align: center;\n",
              "}\n",
              "\n",
              "/* Estimator-specific */\n",
              "#sk-container-id-1 div.sk-estimator {\n",
              "  font-family: monospace;\n",
              "  border: 1px dotted var(--sklearn-color-border-box);\n",
              "  border-radius: 0.25em;\n",
              "  box-sizing: border-box;\n",
              "  margin-bottom: 0.5em;\n",
              "  /* unfitted */\n",
              "  background-color: var(--sklearn-color-unfitted-level-0);\n",
              "}\n",
              "\n",
              "#sk-container-id-1 div.sk-estimator.fitted {\n",
              "  /* fitted */\n",
              "  background-color: var(--sklearn-color-fitted-level-0);\n",
              "}\n",
              "\n",
              "/* on hover */\n",
              "#sk-container-id-1 div.sk-estimator:hover {\n",
              "  /* unfitted */\n",
              "  background-color: var(--sklearn-color-unfitted-level-2);\n",
              "}\n",
              "\n",
              "#sk-container-id-1 div.sk-estimator.fitted:hover {\n",
              "  /* fitted */\n",
              "  background-color: var(--sklearn-color-fitted-level-2);\n",
              "}\n",
              "\n",
              "/* Specification for estimator info (e.g. \"i\" and \"?\") */\n",
              "\n",
              "/* Common style for \"i\" and \"?\" */\n",
              "\n",
              ".sk-estimator-doc-link,\n",
              "a:link.sk-estimator-doc-link,\n",
              "a:visited.sk-estimator-doc-link {\n",
              "  float: right;\n",
              "  font-size: smaller;\n",
              "  line-height: 1em;\n",
              "  font-family: monospace;\n",
              "  background-color: var(--sklearn-color-background);\n",
              "  border-radius: 1em;\n",
              "  height: 1em;\n",
              "  width: 1em;\n",
              "  text-decoration: none !important;\n",
              "  margin-left: 0.5em;\n",
              "  text-align: center;\n",
              "  /* unfitted */\n",
              "  border: var(--sklearn-color-unfitted-level-1) 1pt solid;\n",
              "  color: var(--sklearn-color-unfitted-level-1);\n",
              "}\n",
              "\n",
              ".sk-estimator-doc-link.fitted,\n",
              "a:link.sk-estimator-doc-link.fitted,\n",
              "a:visited.sk-estimator-doc-link.fitted {\n",
              "  /* fitted */\n",
              "  border: var(--sklearn-color-fitted-level-1) 1pt solid;\n",
              "  color: var(--sklearn-color-fitted-level-1);\n",
              "}\n",
              "\n",
              "/* On hover */\n",
              "div.sk-estimator:hover .sk-estimator-doc-link:hover,\n",
              ".sk-estimator-doc-link:hover,\n",
              "div.sk-label-container:hover .sk-estimator-doc-link:hover,\n",
              ".sk-estimator-doc-link:hover {\n",
              "  /* unfitted */\n",
              "  background-color: var(--sklearn-color-unfitted-level-3);\n",
              "  color: var(--sklearn-color-background);\n",
              "  text-decoration: none;\n",
              "}\n",
              "\n",
              "div.sk-estimator.fitted:hover .sk-estimator-doc-link.fitted:hover,\n",
              ".sk-estimator-doc-link.fitted:hover,\n",
              "div.sk-label-container:hover .sk-estimator-doc-link.fitted:hover,\n",
              ".sk-estimator-doc-link.fitted:hover {\n",
              "  /* fitted */\n",
              "  background-color: var(--sklearn-color-fitted-level-3);\n",
              "  color: var(--sklearn-color-background);\n",
              "  text-decoration: none;\n",
              "}\n",
              "\n",
              "/* Span, style for the box shown on hovering the info icon */\n",
              ".sk-estimator-doc-link span {\n",
              "  display: none;\n",
              "  z-index: 9999;\n",
              "  position: relative;\n",
              "  font-weight: normal;\n",
              "  right: .2ex;\n",
              "  padding: .5ex;\n",
              "  margin: .5ex;\n",
              "  width: min-content;\n",
              "  min-width: 20ex;\n",
              "  max-width: 50ex;\n",
              "  color: var(--sklearn-color-text);\n",
              "  box-shadow: 2pt 2pt 4pt #999;\n",
              "  /* unfitted */\n",
              "  background: var(--sklearn-color-unfitted-level-0);\n",
              "  border: .5pt solid var(--sklearn-color-unfitted-level-3);\n",
              "}\n",
              "\n",
              ".sk-estimator-doc-link.fitted span {\n",
              "  /* fitted */\n",
              "  background: var(--sklearn-color-fitted-level-0);\n",
              "  border: var(--sklearn-color-fitted-level-3);\n",
              "}\n",
              "\n",
              ".sk-estimator-doc-link:hover span {\n",
              "  display: block;\n",
              "}\n",
              "\n",
              "/* \"?\"-specific style due to the `<a>` HTML tag */\n",
              "\n",
              "#sk-container-id-1 a.estimator_doc_link {\n",
              "  float: right;\n",
              "  font-size: 1rem;\n",
              "  line-height: 1em;\n",
              "  font-family: monospace;\n",
              "  background-color: var(--sklearn-color-background);\n",
              "  border-radius: 1rem;\n",
              "  height: 1rem;\n",
              "  width: 1rem;\n",
              "  text-decoration: none;\n",
              "  /* unfitted */\n",
              "  color: var(--sklearn-color-unfitted-level-1);\n",
              "  border: var(--sklearn-color-unfitted-level-1) 1pt solid;\n",
              "}\n",
              "\n",
              "#sk-container-id-1 a.estimator_doc_link.fitted {\n",
              "  /* fitted */\n",
              "  border: var(--sklearn-color-fitted-level-1) 1pt solid;\n",
              "  color: var(--sklearn-color-fitted-level-1);\n",
              "}\n",
              "\n",
              "/* On hover */\n",
              "#sk-container-id-1 a.estimator_doc_link:hover {\n",
              "  /* unfitted */\n",
              "  background-color: var(--sklearn-color-unfitted-level-3);\n",
              "  color: var(--sklearn-color-background);\n",
              "  text-decoration: none;\n",
              "}\n",
              "\n",
              "#sk-container-id-1 a.estimator_doc_link.fitted:hover {\n",
              "  /* fitted */\n",
              "  background-color: var(--sklearn-color-fitted-level-3);\n",
              "}\n",
              "</style><div id=\"sk-container-id-1\" class=\"sk-top-container\"><div class=\"sk-text-repr-fallback\"><pre>LinearRegression()</pre><b>In a Jupyter environment, please rerun this cell to show the HTML representation or trust the notebook. <br />On GitHub, the HTML representation is unable to render, please try loading this page with nbviewer.org.</b></div><div class=\"sk-container\" hidden><div class=\"sk-item\"><div class=\"sk-estimator fitted sk-toggleable\"><input class=\"sk-toggleable__control sk-hidden--visually\" id=\"sk-estimator-id-1\" type=\"checkbox\" checked><label for=\"sk-estimator-id-1\" class=\"sk-toggleable__label fitted sk-toggleable__label-arrow\"><div><div>LinearRegression</div></div><div><a class=\"sk-estimator-doc-link fitted\" rel=\"noreferrer\" target=\"_blank\" href=\"https://scikit-learn.org/1.6/modules/generated/sklearn.linear_model.LinearRegression.html\">?<span>Documentation for LinearRegression</span></a><span class=\"sk-estimator-doc-link fitted\">i<span>Fitted</span></span></div></label><div class=\"sk-toggleable__content fitted\"><pre>LinearRegression()</pre></div> </div></div></div></div>"
            ]
          },
          "metadata": {},
          "execution_count": 19
        }
      ]
    },
    {
      "cell_type": "code",
      "source": [
        "# 4. 예측 및 평가\n",
        "# 예측\n",
        "y_pred = model.predict(X_test)\n",
        "\n",
        "# 평가\n",
        "rmse = np.sqrt(mean_squared_error(y_test, y_pred))\n",
        "mae = mean_absolute_error(y_test, y_pred)\n",
        "print(f\"RMSE: {rmse}, MAE: {mae}\")"
      ],
      "metadata": {
        "colab": {
          "base_uri": "https://localhost:8080/"
        },
        "id": "U5F9ma0Y5BpB",
        "outputId": "5a6c970c-8ea9-4f93-951f-be14c5a756e8"
      },
      "execution_count": 20,
      "outputs": [
        {
          "output_type": "stream",
          "name": "stdout",
          "text": [
            "RMSE: 0.0, MAE: 0.0\n"
          ]
        }
      ]
    },
    {
      "cell_type": "code",
      "source": [
        "# 가중치 데이터 로드\n",
        "weights_df = pd.read_csv('/content/drive/MyDrive/Colab Notebooks/Project/Rohlik Sales Prediction/test_weights.csv')"
      ],
      "metadata": {
        "id": "zK8evu_M5gzx"
      },
      "execution_count": 21,
      "outputs": []
    },
    {
      "cell_type": "code",
      "source": [
        "# WMAE 계산 함수 정의: WMAE를 계산하는 함수를 정의\n",
        "def wmae(y_true, y_pred, weights):\n",
        "    return np.mean(weights * np.abs(y_true - y_pred)) / np.mean(weights)"
      ],
      "metadata": {
        "id": "gvNYzXeqCMhA"
      },
      "execution_count": 23,
      "outputs": []
    },
    {
      "cell_type": "code",
      "source": [
        "# WMAE 계산 및 출력: 테스트 데이터에 대한 WMAE를 계산하고 출력\n",
        "# features_df (또는 X_test와 관련된 DataFrame)에 weights 정보 merge\n",
        "merged_df = pd.merge(features_df, weights_df, on='unique_id', how='left')\n",
        "\n",
        "# X_test에 해당하는 가중치 가져오기\n",
        "weights = merged_df.loc[X_test.index, 'weight']\n",
        "\n",
        "# WMAE 계산\n",
        "wmae_score = wmae(y_test, y_pred, weights)\n",
        "print(f\"WMAE: {wmae_score}\")"
      ],
      "metadata": {
        "colab": {
          "base_uri": "https://localhost:8080/"
        },
        "id": "3NDkPn-qCPpb",
        "outputId": "bd251d57-10f2-4df5-b503-a0e94027baba"
      },
      "execution_count": 25,
      "outputs": [
        {
          "output_type": "stream",
          "name": "stdout",
          "text": [
            "WMAE: 0.0\n"
          ]
        }
      ]
    },
    {
      "cell_type": "code",
      "source": [
        "# 1. 예측 결과 저장 및 제출 파일 생성\n",
        "y_pred = model.predict(X_test)"
      ],
      "metadata": {
        "id": "2JViCR4jChYS"
      },
      "execution_count": 26,
      "outputs": []
    },
    {
      "cell_type": "code",
      "source": [
        "# 예측값 DataFrame 생성: 예측값을 Pandas DataFrame으로 변환하고, Kaggle 제출 양식에 맞춰 unique_id와 date 정보를 포함\n",
        "predictions_df = pd.DataFrame({'unique_id': X_test.index, 'date': features_df.loc[X_test.index, 'date'], 'sales': y_pred})"
      ],
      "metadata": {
        "id": "GRm0WsF0CsfV"
      },
      "execution_count": 27,
      "outputs": []
    },
    {
      "cell_type": "code",
      "source": [
        "# CSV 파일 저장: DataFrame을 CSV 파일로 저장\n",
        "predictions_df.to_csv('submission.csv', index=False)"
      ],
      "metadata": {
        "id": "B5cKpjPUCyxF"
      },
      "execution_count": 28,
      "outputs": []
    },
    {
      "cell_type": "code",
      "source": [],
      "metadata": {
        "id": "Zm9vK-J-DdTS"
      },
      "execution_count": null,
      "outputs": []
    }
  ]
}